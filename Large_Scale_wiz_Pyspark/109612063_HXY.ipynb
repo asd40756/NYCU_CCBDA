{
  "nbformat": 4,
  "nbformat_minor": 0,
  "metadata": {
    "kernelspec": {
      "display_name": "Python 3",
      "language": "python",
      "name": "python3"
    },
    "language_info": {
      "codemirror_mode": {
        "name": "ipython",
        "version": 3
      },
      "file_extension": ".py",
      "mimetype": "text/x-python",
      "name": "python",
      "nbconvert_exporter": "python",
      "pygments_lexer": "ipython3",
      "version": "3.8.5"
    },
    "colab": {
      "name": "109612063_黃薪瑜.ipynb",
      "provenance": []
    }
  },
  "cells": [
    {
      "cell_type": "markdown",
      "metadata": {
        "id": "aC0lI_8v6Wyr"
      },
      "source": [
        "# Dataset Overview"
      ]
    },
    {
      "cell_type": "code",
      "metadata": {
        "scrolled": true,
        "colab": {
          "base_uri": "https://localhost:8080/",
          "height": 439
        },
        "id": "ndeIAc5Q6Wys",
        "outputId": "34e78e54-a708-4859-8b23-10ed9337451b"
      },
      "source": [
        "import pandas as pd\n",
        "df = pd.read_csv('public.csv')\n",
        "df"
      ],
      "execution_count": null,
      "outputs": [
        {
          "output_type": "execute_result",
          "data": {
            "text/html": [
              "<div>\n",
              "<style scoped>\n",
              "    .dataframe tbody tr th:only-of-type {\n",
              "        vertical-align: middle;\n",
              "    }\n",
              "\n",
              "    .dataframe tbody tr th {\n",
              "        vertical-align: top;\n",
              "    }\n",
              "\n",
              "    .dataframe thead th {\n",
              "        text-align: right;\n",
              "    }\n",
              "</style>\n",
              "<table border=\"1\" class=\"dataframe\">\n",
              "  <thead>\n",
              "    <tr style=\"text-align: right;\">\n",
              "      <th></th>\n",
              "      <th>CustomerId</th>\n",
              "      <th>Surname</th>\n",
              "      <th>CreditScore</th>\n",
              "      <th>Geography</th>\n",
              "      <th>Gender</th>\n",
              "      <th>Age</th>\n",
              "      <th>Tenure</th>\n",
              "      <th>Balance</th>\n",
              "      <th>NumOfProducts</th>\n",
              "      <th>HasCrCard</th>\n",
              "      <th>IsActiveMember</th>\n",
              "      <th>EstimatedSalary</th>\n",
              "      <th>Exited</th>\n",
              "    </tr>\n",
              "  </thead>\n",
              "  <tbody>\n",
              "    <tr>\n",
              "      <th>0</th>\n",
              "      <td>15565701</td>\n",
              "      <td>Ferri</td>\n",
              "      <td>698</td>\n",
              "      <td>Spain</td>\n",
              "      <td>Female</td>\n",
              "      <td>39</td>\n",
              "      <td>9</td>\n",
              "      <td>161993.89</td>\n",
              "      <td>1</td>\n",
              "      <td>0</td>\n",
              "      <td>0</td>\n",
              "      <td>90212.38</td>\n",
              "      <td>0</td>\n",
              "    </tr>\n",
              "    <tr>\n",
              "      <th>1</th>\n",
              "      <td>15565706</td>\n",
              "      <td>Akobundu</td>\n",
              "      <td>612</td>\n",
              "      <td>Spain</td>\n",
              "      <td>Male</td>\n",
              "      <td>35</td>\n",
              "      <td>1</td>\n",
              "      <td>0.00</td>\n",
              "      <td>1</td>\n",
              "      <td>1</td>\n",
              "      <td>1</td>\n",
              "      <td>83256.26</td>\n",
              "      <td>1</td>\n",
              "    </tr>\n",
              "    <tr>\n",
              "      <th>2</th>\n",
              "      <td>15565796</td>\n",
              "      <td>Docherty</td>\n",
              "      <td>745</td>\n",
              "      <td>Germany</td>\n",
              "      <td>Male</td>\n",
              "      <td>48</td>\n",
              "      <td>10</td>\n",
              "      <td>96048.55</td>\n",
              "      <td>1</td>\n",
              "      <td>1</td>\n",
              "      <td>0</td>\n",
              "      <td>74510.65</td>\n",
              "      <td>0</td>\n",
              "    </tr>\n",
              "    <tr>\n",
              "      <th>3</th>\n",
              "      <td>15565806</td>\n",
              "      <td>Toosey</td>\n",
              "      <td>532</td>\n",
              "      <td>France</td>\n",
              "      <td>Male</td>\n",
              "      <td>38</td>\n",
              "      <td>9</td>\n",
              "      <td>0.00</td>\n",
              "      <td>2</td>\n",
              "      <td>0</td>\n",
              "      <td>0</td>\n",
              "      <td>30583.95</td>\n",
              "      <td>0</td>\n",
              "    </tr>\n",
              "    <tr>\n",
              "      <th>4</th>\n",
              "      <td>15565878</td>\n",
              "      <td>Bates</td>\n",
              "      <td>631</td>\n",
              "      <td>Spain</td>\n",
              "      <td>Male</td>\n",
              "      <td>29</td>\n",
              "      <td>3</td>\n",
              "      <td>0.00</td>\n",
              "      <td>2</td>\n",
              "      <td>1</td>\n",
              "      <td>1</td>\n",
              "      <td>197963.46</td>\n",
              "      <td>0</td>\n",
              "    </tr>\n",
              "    <tr>\n",
              "      <th>...</th>\n",
              "      <td>...</td>\n",
              "      <td>...</td>\n",
              "      <td>...</td>\n",
              "      <td>...</td>\n",
              "      <td>...</td>\n",
              "      <td>...</td>\n",
              "      <td>...</td>\n",
              "      <td>...</td>\n",
              "      <td>...</td>\n",
              "      <td>...</td>\n",
              "      <td>...</td>\n",
              "      <td>...</td>\n",
              "      <td>...</td>\n",
              "    </tr>\n",
              "    <tr>\n",
              "      <th>7995</th>\n",
              "      <td>15815628</td>\n",
              "      <td>Moysey</td>\n",
              "      <td>711</td>\n",
              "      <td>France</td>\n",
              "      <td>Female</td>\n",
              "      <td>37</td>\n",
              "      <td>8</td>\n",
              "      <td>113899.92</td>\n",
              "      <td>1</td>\n",
              "      <td>0</td>\n",
              "      <td>0</td>\n",
              "      <td>80215.20</td>\n",
              "      <td>0</td>\n",
              "    </tr>\n",
              "    <tr>\n",
              "      <th>7996</th>\n",
              "      <td>15815645</td>\n",
              "      <td>Akhtar</td>\n",
              "      <td>481</td>\n",
              "      <td>France</td>\n",
              "      <td>Male</td>\n",
              "      <td>37</td>\n",
              "      <td>8</td>\n",
              "      <td>152303.66</td>\n",
              "      <td>2</td>\n",
              "      <td>1</td>\n",
              "      <td>1</td>\n",
              "      <td>175082.20</td>\n",
              "      <td>0</td>\n",
              "    </tr>\n",
              "    <tr>\n",
              "      <th>7997</th>\n",
              "      <td>15815656</td>\n",
              "      <td>Hopkins</td>\n",
              "      <td>541</td>\n",
              "      <td>Germany</td>\n",
              "      <td>Female</td>\n",
              "      <td>39</td>\n",
              "      <td>9</td>\n",
              "      <td>100116.67</td>\n",
              "      <td>1</td>\n",
              "      <td>1</td>\n",
              "      <td>1</td>\n",
              "      <td>199808.10</td>\n",
              "      <td>1</td>\n",
              "    </tr>\n",
              "    <tr>\n",
              "      <th>7998</th>\n",
              "      <td>15815660</td>\n",
              "      <td>Mazzi</td>\n",
              "      <td>758</td>\n",
              "      <td>France</td>\n",
              "      <td>Female</td>\n",
              "      <td>34</td>\n",
              "      <td>1</td>\n",
              "      <td>154139.45</td>\n",
              "      <td>1</td>\n",
              "      <td>1</td>\n",
              "      <td>1</td>\n",
              "      <td>60728.89</td>\n",
              "      <td>0</td>\n",
              "    </tr>\n",
              "    <tr>\n",
              "      <th>7999</th>\n",
              "      <td>15815690</td>\n",
              "      <td>Akabueze</td>\n",
              "      <td>614</td>\n",
              "      <td>Spain</td>\n",
              "      <td>Female</td>\n",
              "      <td>40</td>\n",
              "      <td>3</td>\n",
              "      <td>113348.50</td>\n",
              "      <td>1</td>\n",
              "      <td>1</td>\n",
              "      <td>1</td>\n",
              "      <td>77789.01</td>\n",
              "      <td>0</td>\n",
              "    </tr>\n",
              "  </tbody>\n",
              "</table>\n",
              "<p>8000 rows × 13 columns</p>\n",
              "</div>"
            ],
            "text/plain": [
              "      CustomerId   Surname  ...  EstimatedSalary Exited\n",
              "0       15565701     Ferri  ...         90212.38      0\n",
              "1       15565706  Akobundu  ...         83256.26      1\n",
              "2       15565796  Docherty  ...         74510.65      0\n",
              "3       15565806    Toosey  ...         30583.95      0\n",
              "4       15565878     Bates  ...        197963.46      0\n",
              "...          ...       ...  ...              ...    ...\n",
              "7995    15815628    Moysey  ...         80215.20      0\n",
              "7996    15815645    Akhtar  ...        175082.20      0\n",
              "7997    15815656   Hopkins  ...        199808.10      1\n",
              "7998    15815660     Mazzi  ...         60728.89      0\n",
              "7999    15815690  Akabueze  ...         77789.01      0\n",
              "\n",
              "[8000 rows x 13 columns]"
            ]
          },
          "metadata": {
            "tags": []
          },
          "execution_count": 2
        }
      ]
    },
    {
      "cell_type": "markdown",
      "metadata": {
        "id": "fzYBApmt6Wyu"
      },
      "source": [
        "# Use Pyspark to view dataset "
      ]
    },
    {
      "cell_type": "code",
      "metadata": {
        "colab": {
          "base_uri": "https://localhost:8080/"
        },
        "id": "ZJTNV7Mm6Wyu",
        "outputId": "4c112b11-543a-42d8-8892-9ac4169900ab"
      },
      "source": [
        "# These part is  for windows version, if you use ubuntu, remember to edit import pyspark part\n",
        "# ----\n",
        "#import findspark\n",
        "#findspark.init()\n",
        "#findspark.find()\n",
        "import pyspark\n",
        "#findspark.find()\n",
        "# ----\n",
        "from pyspark.sql import SparkSession\n",
        "spark = SparkSession.builder.appName(\"Churn_Modelling\").getOrCreate()\n",
        "df = spark.read.csv('public.csv',header=True,inferSchema=True)\n",
        "df.printSchema()"
      ],
      "execution_count": null,
      "outputs": [
        {
          "output_type": "stream",
          "text": [
            "root\n",
            " |-- CustomerId: integer (nullable = true)\n",
            " |-- Surname: string (nullable = true)\n",
            " |-- CreditScore: integer (nullable = true)\n",
            " |-- Geography: string (nullable = true)\n",
            " |-- Gender: string (nullable = true)\n",
            " |-- Age: integer (nullable = true)\n",
            " |-- Tenure: integer (nullable = true)\n",
            " |-- Balance: double (nullable = true)\n",
            " |-- NumOfProducts: integer (nullable = true)\n",
            " |-- HasCrCard: integer (nullable = true)\n",
            " |-- IsActiveMember: integer (nullable = true)\n",
            " |-- EstimatedSalary: double (nullable = true)\n",
            " |-- Exited: integer (nullable = true)\n",
            "\n"
          ],
          "name": "stdout"
        }
      ]
    },
    {
      "cell_type": "markdown",
      "metadata": {
        "id": "oGVXXd9Z6Wyv"
      },
      "source": [
        "# Do your work here"
      ]
    },
    {
      "cell_type": "code",
      "metadata": {
        "id": "8W6Y4lK46Wyw"
      },
      "source": [
        "from pyspark.ml.feature import VectorAssembler, MinMaxScaler\n",
        "from pyspark.ml.classification import LogisticRegression"
      ],
      "execution_count": null,
      "outputs": []
    },
    {
      "cell_type": "code",
      "metadata": {
        "colab": {
          "base_uri": "https://localhost:8080/"
        },
        "id": "rLmqvTfH8xkO",
        "outputId": "ebe6761e-6dc7-4f65-e4b2-509a95f142d0"
      },
      "source": [
        "#把很多feature集合成一個vector\n",
        "df_feature = VectorAssembler(inputCols=['CreditScore','Age','Tenure','Balance',\n",
        "'NumOfProducts','HasCrCard','IsActiveMember','EstimatedSalary'],outputCol='Features')\n",
        "df_feature= df_feature.transform(df)\n",
        "df_feature.show()"
      ],
      "execution_count": null,
      "outputs": [
        {
          "output_type": "stream",
          "text": [
            "+----------+--------+-----------+---------+------+---+------+---------+-------------+---------+--------------+---------------+------+--------------------+\n",
            "|CustomerId| Surname|CreditScore|Geography|Gender|Age|Tenure|  Balance|NumOfProducts|HasCrCard|IsActiveMember|EstimatedSalary|Exited|            Features|\n",
            "+----------+--------+-----------+---------+------+---+------+---------+-------------+---------+--------------+---------------+------+--------------------+\n",
            "|  15565701|   Ferri|        698|    Spain|Female| 39|     9|161993.89|            1|        0|             0|       90212.38|     0|[698.0,39.0,9.0,1...|\n",
            "|  15565706|Akobundu|        612|    Spain|  Male| 35|     1|      0.0|            1|        1|             1|       83256.26|     1|[612.0,35.0,1.0,0...|\n",
            "|  15565796|Docherty|        745|  Germany|  Male| 48|    10| 96048.55|            1|        1|             0|       74510.65|     0|[745.0,48.0,10.0,...|\n",
            "|  15565806|  Toosey|        532|   France|  Male| 38|     9|      0.0|            2|        0|             0|       30583.95|     0|[532.0,38.0,9.0,0...|\n",
            "|  15565878|   Bates|        631|    Spain|  Male| 29|     3|      0.0|            2|        1|             1|      197963.46|     0|[631.0,29.0,3.0,0...|\n",
            "|  15565879|   Riley|        845|   France|Female| 28|     9|      0.0|            2|        1|             1|       56185.98|     0|[845.0,28.0,9.0,0...|\n",
            "|  15565996|  Arnold|        653|   France|  Male| 44|     8|      0.0|            2|        1|             1|      154639.72|     0|[653.0,44.0,8.0,0...|\n",
            "|  15566030|      Tu|        497|  Germany|  Male| 41|     5| 80542.81|            1|        0|             0|       88729.22|     1|[497.0,41.0,5.0,8...|\n",
            "|  15566091| Thomsen|        545|    Spain|Female| 32|     4|      0.0|            1|        1|             0|        94739.2|     0|[545.0,32.0,4.0,0...|\n",
            "|  15566111|   Estes|        596|   France|  Male| 39|     9|      0.0|            1|        1|             0|       48963.59|     0|[596.0,39.0,9.0,0...|\n",
            "|  15566139|   Ts'ui|        526|   France|Female| 37|     5| 53573.18|            1|        1|             0|       62830.97|     0|[526.0,37.0,5.0,5...|\n",
            "|  15566251| Ferrari|        618|   France|Female| 37|     5| 96652.86|            1|        1|             0|        98686.4|     1|[618.0,37.0,5.0,9...|\n",
            "|  15566253| Manning|        580|  Germany|  Male| 44|     9|143391.07|            1|        0|             0|      146891.07|     1|[580.0,44.0,9.0,1...|\n",
            "|  15566269|Chialuka|        787|   France|  Male| 25|     5|      0.0|            2|        1|             0|        47307.9|     0|[787.0,25.0,5.0,0...|\n",
            "|  15566295| Sanders|        761|   France|Female| 33|     6|138053.79|            2|        1|             0|      148779.41|     0|[761.0,33.0,6.0,1...|\n",
            "|  15566312|   Jolly|        660|    Spain|Female| 42|     5|      0.0|            3|        1|             1|      189016.24|     1|[660.0,42.0,5.0,0...|\n",
            "|  15566378| Tillman|        515|   France|  Male| 48|     5|129387.94|            1|        0|             1|      147955.91|     1|[515.0,48.0,5.0,1...|\n",
            "|  15566380|   Drury|        586|    Spain|Female| 33|    10| 66948.67|            2|        1|             1|      140759.03|     0|[586.0,33.0,10.0,...|\n",
            "|  15566467|  Hannah|        683|  Germany|Female| 32|     0| 138171.1|            2|        1|             1|      188203.58|     0|[683.0,32.0,0.0,1...|\n",
            "|  15566494|    Fang|        487|   France|  Male| 45|     2|      0.0|            2|        1|             0|       77475.73|     0|[487.0,45.0,2.0,0...|\n",
            "+----------+--------+-----------+---------+------+---+------+---------+-------------+---------+--------------+---------------+------+--------------------+\n",
            "only showing top 20 rows\n",
            "\n"
          ],
          "name": "stdout"
        }
      ]
    },
    {
      "cell_type": "code",
      "metadata": {
        "colab": {
          "base_uri": "https://localhost:8080/"
        },
        "id": "pvLQOdNn-iOE",
        "outputId": "f0f81e10-4700-4482-e720-387cd9e02077"
      },
      "source": [
        "#normalize\n",
        "temp_select=df_feature.select(['CustomerId','Features', 'Exited'])\n",
        "nor = MinMaxScaler(inputCol = 'Features' ,outputCol = 'Features_nor')\n",
        "data_nor= nor.fit(temp_select).transform(temp_select)\n",
        "data_nor.show()"
      ],
      "execution_count": null,
      "outputs": [
        {
          "output_type": "stream",
          "text": [
            "+----------+--------------------+------+--------------------+\n",
            "|CustomerId|            Features|Exited|        Features_nor|\n",
            "+----------+--------------------+------+--------------------+\n",
            "|  15565701|[698.0,39.0,9.0,1...|     0|[0.69600000000000...|\n",
            "|  15565706|[612.0,35.0,1.0,0...|     1|[0.524,0.22972972...|\n",
            "|  15565796|[745.0,48.0,10.0,...|     0|[0.79,0.405405405...|\n",
            "|  15565806|[532.0,38.0,9.0,0...|     0|[0.364,0.27027027...|\n",
            "|  15565878|[631.0,29.0,3.0,0...|     0|[0.562,0.14864864...|\n",
            "|  15565879|[845.0,28.0,9.0,0...|     0|[0.99,0.135135135...|\n",
            "|  15565996|[653.0,44.0,8.0,0...|     0|[0.606,0.35135135...|\n",
            "|  15566030|[497.0,41.0,5.0,8...|     1|[0.294,0.31081081...|\n",
            "|  15566091|[545.0,32.0,4.0,0...|     0|[0.39,0.189189189...|\n",
            "|  15566111|[596.0,39.0,9.0,0...|     0|[0.492,0.28378378...|\n",
            "|  15566139|[526.0,37.0,5.0,5...|     0|[0.352,0.25675675...|\n",
            "|  15566251|[618.0,37.0,5.0,9...|     1|[0.536,0.25675675...|\n",
            "|  15566253|[580.0,44.0,9.0,1...|     1|[0.46,0.351351351...|\n",
            "|  15566269|[787.0,25.0,5.0,0...|     0|[0.874,0.09459459...|\n",
            "|  15566295|[761.0,33.0,6.0,1...|     0|[0.82200000000000...|\n",
            "|  15566312|[660.0,42.0,5.0,0...|     1|[0.62,0.324324324...|\n",
            "|  15566378|[515.0,48.0,5.0,1...|     1|[0.33,0.405405405...|\n",
            "|  15566380|[586.0,33.0,10.0,...|     0|[0.47200000000000...|\n",
            "|  15566467|[683.0,32.0,0.0,1...|     0|[0.666,0.18918918...|\n",
            "|  15566494|[487.0,45.0,2.0,0...|     0|[0.274,0.36486486...|\n",
            "+----------+--------------------+------+--------------------+\n",
            "only showing top 20 rows\n",
            "\n"
          ],
          "name": "stdout"
        }
      ]
    },
    {
      "cell_type": "code",
      "metadata": {
        "id": "KThR0NkKBsSq"
      },
      "source": [
        "#設定多層分類器\n",
        "from pyspark.ml.classification import MultilayerPerceptronClassifier\n",
        "train = MultilayerPerceptronClassifier(featuresCol = 'Features_nor', \n",
        "labelCol = 'Exited',maxIter=100, layers=[8,28,66,88,2], blockSize=128, seed=1200)"
      ],
      "execution_count": null,
      "outputs": []
    },
    {
      "cell_type": "markdown",
      "metadata": {
        "id": "rIYfexwF6Wyw"
      },
      "source": [
        "# Evaluation Part"
      ]
    },
    {
      "cell_type": "markdown",
      "metadata": {
        "id": "XwywEOX06Wyx"
      },
      "source": [
        "## Load private dataset, the same structure as public dataset"
      ]
    },
    {
      "cell_type": "code",
      "metadata": {
        "id": "mtRBRneP6Wyx"
      },
      "source": [
        "df_private = spark.read.csv('public.csv',header=True,inferSchema=True)  # TA takes public dataset as example"
      ],
      "execution_count": null,
      "outputs": []
    },
    {
      "cell_type": "markdown",
      "metadata": {
        "id": "B5bJbJKD6Wyy"
      },
      "source": [
        "## Do prediction with your PySpark model here"
      ]
    },
    {
      "cell_type": "code",
      "metadata": {
        "colab": {
          "base_uri": "https://localhost:8080/"
        },
        "id": "FqoQwsGc6Wyy",
        "outputId": "1db8c9f8-3ab6-47d3-8a3e-7c7e5fdf3228"
      },
      "source": [
        "#training\n",
        "temp1 = train.fit(data_nor)\n",
        "temp2 = temp1.evaluate(data_nor).predictions\n",
        "model_pre= temp2.select('CustomerId','prediction')\n",
        "model_pre.show()"
      ],
      "execution_count": null,
      "outputs": [
        {
          "output_type": "stream",
          "text": [
            "+----------+----------+\n",
            "|CustomerId|prediction|\n",
            "+----------+----------+\n",
            "|  15565701|       0.0|\n",
            "|  15565706|       0.0|\n",
            "|  15565796|       1.0|\n",
            "|  15565806|       0.0|\n",
            "|  15565878|       0.0|\n",
            "|  15565879|       0.0|\n",
            "|  15565996|       0.0|\n",
            "|  15566030|       0.0|\n",
            "|  15566091|       0.0|\n",
            "|  15566111|       0.0|\n",
            "|  15566139|       0.0|\n",
            "|  15566251|       0.0|\n",
            "|  15566253|       0.0|\n",
            "|  15566269|       0.0|\n",
            "|  15566295|       0.0|\n",
            "|  15566312|       0.0|\n",
            "|  15566378|       0.0|\n",
            "|  15566380|       0.0|\n",
            "|  15566467|       0.0|\n",
            "|  15566494|       0.0|\n",
            "+----------+----------+\n",
            "only showing top 20 rows\n",
            "\n"
          ],
          "name": "stdout"
        }
      ]
    },
    {
      "cell_type": "markdown",
      "metadata": {
        "id": "befDc2jy6Wyz"
      },
      "source": [
        "## Print Your result as the following type"
      ]
    },
    {
      "cell_type": "code",
      "metadata": {
        "colab": {
          "base_uri": "https://localhost:8080/"
        },
        "id": "ykg4rRmD6Wyz",
        "outputId": "90166b64-8f33-4e97-c24e-e351203cef43"
      },
      "source": [
        "df_private.select('CustomerId','Exited').show(5)"
      ],
      "execution_count": null,
      "outputs": [
        {
          "output_type": "stream",
          "text": [
            "+----------+------+\n",
            "|CustomerId|Exited|\n",
            "+----------+------+\n",
            "|  15565701|     0|\n",
            "|  15565706|     1|\n",
            "|  15565796|     0|\n",
            "|  15565806|     0|\n",
            "|  15565878|     0|\n",
            "+----------+------+\n",
            "only showing top 5 rows\n",
            "\n"
          ],
          "name": "stdout"
        }
      ]
    },
    {
      "cell_type": "markdown",
      "metadata": {
        "id": "wpMjx9o16Wy0"
      },
      "source": [
        "## TA will use the following function to get your prediction result (f-1 score)"
      ]
    },
    {
      "cell_type": "code",
      "metadata": {
        "colab": {
          "base_uri": "https://localhost:8080/"
        },
        "id": "4SLYGiM_6Wy0",
        "outputId": "b17d0ee2-698b-428f-903f-172f7826b17c"
      },
      "source": [
        "#計算f1score(兩組數據差異)\n",
        "from sklearn import metrics\n",
        "import numpy as np\n",
        "data_arr =  np.array(df_private.select('Exited').collect())\n",
        "data_pre = np.array(model_pre.select(['prediction']).collect())\n",
        "metrics.f1_score(data_arr,data_pre, average='micro')  "
      ],
      "execution_count": null,
      "outputs": [
        {
          "output_type": "execute_result",
          "data": {
            "text/plain": [
              "0.850875"
            ]
          },
          "metadata": {
            "tags": []
          },
          "execution_count": 60
        }
      ]
    }
  ]
}